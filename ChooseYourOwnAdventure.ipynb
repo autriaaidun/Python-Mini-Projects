{
 "cells": [
  {
   "cell_type": "code",
   "execution_count": 1,
   "id": "1241007c-9ab5-4b7f-96ca-2d2181bb3d87",
   "metadata": {},
   "outputs": [
    {
     "name": "stdin",
     "output_type": "stream",
     "text": [
      "type your name:  kayvon\n"
     ]
    },
    {
     "name": "stdout",
     "output_type": "stream",
     "text": [
      "welcome kayvon to this adventure!\n"
     ]
    },
    {
     "name": "stdin",
     "output_type": "stream",
     "text": [
      "You are on a dirt road, it has come to an end and you can go left (type left) or right (type right). Which way would you like to go?  right\n",
      "You come to a bridge and it looks wobbly. Do you want to cross it? (type cross or back) cross\n",
      "You cross the bridge and see a stanger. Do you talk to them? (type yes or no) yes\n"
     ]
    },
    {
     "name": "stdout",
     "output_type": "stream",
     "text": [
      "the stanger gives you a map to treasure but it costs all your food, you die looking for the treasure. you lose.\n"
     ]
    }
   ],
   "source": [
    "name = input(\"type your name: \")\n",
    "print(\"welcome\",name,\"to this adventure!\")\n",
    "answer = input(\"You are on a dirt road, it has come to an end and you can go left (type left) or right (type right). Which way would you like to go? \").lower()\n",
    "if answer == \"left\":\n",
    "    answer = input(\"You come to a river, you can walk around it (type walk) or swim across (type swim)? \").lower()\n",
    "    \n",
    "    if answer == \"swim\":\n",
    "        print(\"you swam across and were eaten by an alligator. You lose.\")\n",
    "        quit()\n",
    "    elif answer == \"walk\":\n",
    "        print(\"you walked for many miles, ran out of water, and lost the game.\")\n",
    "        quit()\n",
    "    else:\n",
    "        print(\"not a valid option, you lose.\")\n",
    "        quit()\n",
    "\n",
    "elif answer == \"right\":\n",
    "    answer = input(\"You come to a bridge and it looks wobbly. Do you want to cross it? (type cross or back)\").lower()\n",
    "    if answer == \"back\":\n",
    "        print(\"you go back to the main road and lose.\")\n",
    "        quit()\n",
    "    elif answer == \"cross\":\n",
    "        answer = input(\"You cross the bridge and see a stanger. Do you talk to them? (type yes or no)\").lower()\n",
    "        if answer == \"yes\":\n",
    "            print(\"the stanger gives you a map to treasure but it costs all your food, you die looking for the treasure. you lose.\")\n",
    "            quit()\n",
    "        elif answer == \"no\":\n",
    "            answer = input(\"you took a wrong turn and are approached by a cheetah. Do you try to tame it or run away? (type tame or run) \").lower()\n",
    "            if answer == \"tame\":\n",
    "                print(\"the cheetah responded kindly and gave you a ride.\")\n",
    "                answer = input(\"you now approach a mountain and can not get help from the cheetah anymore. Do you try to climb the mountain or walk around? (type climb or around) \").lower()\n",
    "                if answer == \"climb\":\n",
    "                    print(\"you had just enough energy to make it to the top where you are safe from danger. you win!\")\n",
    "                    quit()\n",
    "                elif answer == \"around\":\n",
    "                    print(\"while trying to make it through the jungle you were bit by a snake and died. you lose\")\n",
    "                    quit()\n",
    "                else:\n",
    "                    print(\"not a valid option, you lose.\")\n",
    "                    quit()\n",
    "            elif answer == \"run\":\n",
    "                print(\"you scared the cheetah, it ran after you, and it ate you. you lose\")\n",
    "                quit()\n",
    "            else:\n",
    "                print(\"not a valid option, you lose.\")\n",
    "                quit()\n",
    "        else:\n",
    "            print(\"not a valid option, you lose.\")\n",
    "            quit()\n",
    "\n",
    "    else:\n",
    "        print(\"not a valid option, you lose.\")\n",
    "        quit()\n",
    "else:\n",
    "    print(\"not a valid option, you lose.\")\n",
    "    quit()"
   ]
  },
  {
   "cell_type": "code",
   "execution_count": null,
   "id": "f845b548-50e0-4937-a303-484a33c15e80",
   "metadata": {},
   "outputs": [],
   "source": []
  }
 ],
 "metadata": {
  "kernelspec": {
   "display_name": "Python 3 (ipykernel)",
   "language": "python",
   "name": "python3"
  },
  "language_info": {
   "codemirror_mode": {
    "name": "ipython",
    "version": 3
   },
   "file_extension": ".py",
   "mimetype": "text/x-python",
   "name": "python",
   "nbconvert_exporter": "python",
   "pygments_lexer": "ipython3",
   "version": "3.11.7"
  }
 },
 "nbformat": 4,
 "nbformat_minor": 5
}
