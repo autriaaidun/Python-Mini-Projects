{
 "cells": [
  {
   "cell_type": "code",
   "execution_count": 10,
   "id": "865af4c0-9692-48e2-86f9-0b9b90c124ff",
   "metadata": {},
   "outputs": [
    {
     "name": "stdin",
     "output_type": "stream",
     "text": [
      "what is the master password? autria\n",
      "would you like to add a new password or view exisisting? (type new or view) - press 'q' to quit  face\n"
     ]
    },
    {
     "name": "stdout",
     "output_type": "stream",
     "text": [
      "invalid answer\n"
     ]
    },
    {
     "name": "stdin",
     "output_type": "stream",
     "text": [
      "would you like to add a new password or view exisisting? (type new or view) - press 'q' to quit  new\n",
      "account name:  face\n",
      "password:  123\n",
      "would you like to add a new password or view exisisting? (type new or view) - press 'q' to quit  view\n"
     ]
    },
    {
     "name": "stdout",
     "output_type": "stream",
     "text": [
      "user: face , password: 123\n"
     ]
    },
    {
     "name": "stdin",
     "output_type": "stream",
     "text": [
      "would you like to add a new password or view exisisting? (type new or view) - press 'q' to quit  new\n",
      "account name:  dirt\n",
      "password:  squirm\n",
      "would you like to add a new password or view exisisting? (type new or view) - press 'q' to quit  view\n"
     ]
    },
    {
     "name": "stdout",
     "output_type": "stream",
     "text": [
      "user: face , password: 123\n",
      "user: dirt , password: squirm\n"
     ]
    },
    {
     "name": "stdin",
     "output_type": "stream",
     "text": [
      "would you like to add a new password or view exisisting? (type new or view) - press 'q' to quit  q\n"
     ]
    }
   ],
   "source": [
    "from cryptography.fernet import Fernet\n",
    "\n",
    "def load_key():\n",
    "    file = open(\"key.key\",\"rb\")\n",
    "    key = file.read()\n",
    "    file.close()\n",
    "    return key\n",
    "\n",
    "master_pwd = input(\"what is the master password?\")\n",
    "\n",
    "key = load_key() + master_pwd.encode()\n",
    "fer = Fernet(key)\n",
    "\n",
    "\n",
    "#def write_key():\n",
    "    #key = Fernet.generate_key()\n",
    "    #with open(\"key.key\",\"wb\") as key_file:\n",
    "        #key_file.write(key)\n",
    "\n",
    "def view():\n",
    "    with open('passwords.txt','r') as f:\n",
    "        for line in f.readlines():\n",
    "            data = line.rstrip()\n",
    "            user, passw = data.split(\" : \")\n",
    "            print(\"user:\",user,\", password:\",fer.decrypt(passw.encode()).decode())\n",
    "\n",
    "def new():\n",
    "    name = input(\"account name: \")\n",
    "    pwd = input(\"password: \")\n",
    "    with open('passwords.txt','a') as f:\n",
    "        f.write(name + \" : \" + fer.encrypt(pwd.encode()).decode() + \"\\n\")\n",
    "\n",
    "while True:\n",
    "    mode = input(\"would you like to add a new password or view exisisting? (type new or view) - press 'q' to quit \")\n",
    "    if mode == \"q\":\n",
    "        break\n",
    "    elif mode == \"view\":\n",
    "        view()\n",
    "    elif mode == \"new\":\n",
    "        new()\n",
    "    else:\n",
    "        print(\"invalid answer\")\n",
    "        continue\n",
    "\n"
   ]
  },
  {
   "cell_type": "code",
   "execution_count": null,
   "id": "732a1426-91b2-44ee-90ef-8238addf35c8",
   "metadata": {},
   "outputs": [],
   "source": []
  }
 ],
 "metadata": {
  "kernelspec": {
   "display_name": "Python 3 (ipykernel)",
   "language": "python",
   "name": "python3"
  },
  "language_info": {
   "codemirror_mode": {
    "name": "ipython",
    "version": 3
   },
   "file_extension": ".py",
   "mimetype": "text/x-python",
   "name": "python",
   "nbconvert_exporter": "python",
   "pygments_lexer": "ipython3",
   "version": "3.11.7"
  }
 },
 "nbformat": 4,
 "nbformat_minor": 5
}
