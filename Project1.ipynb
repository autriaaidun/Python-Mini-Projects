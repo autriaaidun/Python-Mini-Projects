{
 "cells": [
  {
   "cell_type": "code",
   "execution_count": 10,
   "id": "4c5e62a5-bce5-4390-86bb-5846fb6f2a3c",
   "metadata": {},
   "outputs": [
    {
     "name": "stdout",
     "output_type": "stream",
     "text": [
      "Welcome to my computer quiz!\n"
     ]
    },
    {
     "name": "stdin",
     "output_type": "stream",
     "text": [
      "Do you want to play?  yes\n"
     ]
    },
    {
     "name": "stdout",
     "output_type": "stream",
     "text": [
      "Okay, let's play :)\n"
     ]
    },
    {
     "name": "stdin",
     "output_type": "stream",
     "text": [
      "what does CPU stand for?  s\n"
     ]
    },
    {
     "name": "stdout",
     "output_type": "stream",
     "text": [
      "incorrect :(\n"
     ]
    },
    {
     "name": "stdin",
     "output_type": "stream",
     "text": [
      "what does GPU stand for?  s\n"
     ]
    },
    {
     "name": "stdout",
     "output_type": "stream",
     "text": [
      "incorrect :(\n"
     ]
    },
    {
     "name": "stdin",
     "output_type": "stream",
     "text": [
      "what does RAM stand for?  s\n"
     ]
    },
    {
     "name": "stdout",
     "output_type": "stream",
     "text": [
      "incorrect :(\n"
     ]
    },
    {
     "name": "stdin",
     "output_type": "stream",
     "text": [
      "what does PSU stand for?  power supply\n"
     ]
    },
    {
     "name": "stdout",
     "output_type": "stream",
     "text": [
      "correct!\n",
      "You got 1 questions correct!\n",
      "You got 25.0% questions correct!\n"
     ]
    }
   ],
   "source": [
    "print(\"Welcome to my computer quiz!\")\n",
    "playing = input(\"Do you want to play? \")\n",
    "if playing.lower() != \"yes\":\n",
    "    quit()\n",
    "else:\n",
    "    print(\"Okay, let's play :)\")\n",
    "score = 0\n",
    "\n",
    "answer = input(\"what does CPU stand for? \")\n",
    "if answer.lower() == \"central processing unit\":\n",
    "    print(\"correct!\")\n",
    "    score +=1\n",
    "else:\n",
    "    print(\"incorrect :(\")\n",
    "\n",
    "answer = input(\"what does GPU stand for? \")\n",
    "if answer.lower() == \"graphics processing unit\":\n",
    "    print(\"correct!\")\n",
    "    score +=1\n",
    "else:\n",
    "    print(\"incorrect :(\")\n",
    "\n",
    "answer = input(\"what does RAM stand for? \")\n",
    "if answer.lower() == \"random access memory\":\n",
    "    print(\"correct!\")\n",
    "    score +=1\n",
    "else:\n",
    "    print(\"incorrect :(\")\n",
    "\n",
    "answer = input(\"what does PSU stand for? \")\n",
    "if answer.lower() == \"power supply\":\n",
    "    print(\"correct!\")\n",
    "    score +=1\n",
    "else:\n",
    "    print(\"incorrect :(\")\n",
    "\n",
    "print(\"You got \"+ str(score) + \" questions correct!\")\n",
    "print(\"You got \"+ str(score/4*100) + \"% questions correct!\")"
   ]
  },
  {
   "cell_type": "code",
   "execution_count": null,
   "id": "0d27183d-311f-46c4-980b-7037d1e5d6e0",
   "metadata": {},
   "outputs": [],
   "source": []
  }
 ],
 "metadata": {
  "kernelspec": {
   "display_name": "Python 3 (ipykernel)",
   "language": "python",
   "name": "python3"
  },
  "language_info": {
   "codemirror_mode": {
    "name": "ipython",
    "version": 3
   },
   "file_extension": ".py",
   "mimetype": "text/x-python",
   "name": "python",
   "nbconvert_exporter": "python",
   "pygments_lexer": "ipython3",
   "version": "3.11.7"
  }
 },
 "nbformat": 4,
 "nbformat_minor": 5
}
