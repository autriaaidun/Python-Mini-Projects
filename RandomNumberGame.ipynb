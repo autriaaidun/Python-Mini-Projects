{
 "cells": [
  {
   "cell_type": "code",
   "execution_count": 11,
   "id": "44bd234c-678f-426a-84de-57ed81fabdac",
   "metadata": {},
   "outputs": [
    {
     "name": "stdin",
     "output_type": "stream",
     "text": [
      "type a number:  5\n",
      "make a guess:  2\n"
     ]
    },
    {
     "name": "stdout",
     "output_type": "stream",
     "text": [
      "you were below the number\n"
     ]
    },
    {
     "name": "stdin",
     "output_type": "stream",
     "text": [
      "make a guess:  5\n"
     ]
    },
    {
     "name": "stdout",
     "output_type": "stream",
     "text": [
      "you were above the number\n"
     ]
    },
    {
     "name": "stdin",
     "output_type": "stream",
     "text": [
      "make a guess:  4\n"
     ]
    },
    {
     "name": "stdout",
     "output_type": "stream",
     "text": [
      "you got it right!\n",
      "You got it in, 3 guesses\n"
     ]
    }
   ],
   "source": [
    "import random\n",
    "top_of_range = input(\"type a number: \")\n",
    "if top_of_range.isdigit:\n",
    "    top_of_range = int(top_of_range)\n",
    "    if top_of_range <= 0:\n",
    "        print(\"please type a number larger than 0 next time\")\n",
    "        quit()\n",
    "else:\n",
    "    print(\"please type a number next time\")\n",
    "    quit()\n",
    "\n",
    "random_number = random.randint(0,top_of_range)\n",
    "guess = 0\n",
    "\n",
    "while True:\n",
    "    guess += 1\n",
    "    user_guess = input(\"make a guess: \")\n",
    "    if user_guess.isdigit:\n",
    "        user_guess = int(user_guess)\n",
    "    else:\n",
    "        print(\"please type a number next time\")\n",
    "        continue\n",
    "    if user_guess == random_number:\n",
    "        print(\"you got it right!\")\n",
    "        break\n",
    "    else:\n",
    "        if user_guess > random_number:\n",
    "            print(\"you were above the number\")\n",
    "        else: \n",
    "            print(\"you were below the number\")\n",
    "\n",
    "print(\"You got it in,\",guess,\"guesses\")"
   ]
  },
  {
   "cell_type": "code",
   "execution_count": null,
   "id": "ea3c5ad0-6961-463e-9944-316413961c09",
   "metadata": {},
   "outputs": [],
   "source": [
    "import random\n",
    "top_of_range = input(\"type a number: \")\n",
    "if top_of_range.isdigit:\n",
    "    top_of_range = int(top_of_range)\n",
    "    if top_of_range <= 0:\n",
    "        print(\"please type a number larger than 0 next time\")\n",
    "        quit()\n",
    "else:\n",
    "    print(\"please type a number next time\")\n",
    "    quit()\n",
    "\n",
    "random_number = random.randint(0,top_of_range)\n",
    "guess = 0\n",
    "\n",
    "while True:\n",
    "    guess += 1\n",
    "    user_guess = input(\"make a guess: \")\n",
    "    if user_guess.isdigit:\n",
    "        user_guess = int(user_guess)\n",
    "    else:\n",
    "        print(\"please type a number next time\")\n",
    "        continue\n",
    "    if user_guess == random_number:\n",
    "        print(\"you got it right!\")\n",
    "        break\n",
    "    elif user_guess > random_number:\n",
    "        print(\"you were above the number\")\n",
    "    else: \n",
    "        print(\"you were below the number\")\n",
    "\n",
    "print(\"You got it in,\",guess,\"guesses\")"
   ]
  }
 ],
 "metadata": {
  "kernelspec": {
   "display_name": "Python 3 (ipykernel)",
   "language": "python",
   "name": "python3"
  },
  "language_info": {
   "codemirror_mode": {
    "name": "ipython",
    "version": 3
   },
   "file_extension": ".py",
   "mimetype": "text/x-python",
   "name": "python",
   "nbconvert_exporter": "python",
   "pygments_lexer": "ipython3",
   "version": "3.11.7"
  }
 },
 "nbformat": 4,
 "nbformat_minor": 5
}
