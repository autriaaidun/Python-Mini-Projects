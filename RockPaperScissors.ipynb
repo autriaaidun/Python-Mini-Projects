{
 "cells": [
  {
   "cell_type": "code",
   "execution_count": 6,
   "id": "ff6b32d1-587c-4da9-9d15-63f67c5e796f",
   "metadata": {},
   "outputs": [
    {
     "name": "stdin",
     "output_type": "stream",
     "text": [
      "type rock/paper/scissors or q to quit:  scissors\n"
     ]
    },
    {
     "name": "stdout",
     "output_type": "stream",
     "text": [
      "computer picked: paper.\n",
      "you won!\n",
      "1 you\n"
     ]
    },
    {
     "name": "stdin",
     "output_type": "stream",
     "text": [
      "type rock/paper/scissors or q to quit:  scissors\n"
     ]
    },
    {
     "name": "stdout",
     "output_type": "stream",
     "text": [
      "computer picked: rock.\n",
      "you lost :(\n",
      "1 computer\n"
     ]
    },
    {
     "name": "stdin",
     "output_type": "stream",
     "text": [
      "type rock/paper/scissors or q to quit:  scissors\n"
     ]
    },
    {
     "name": "stdout",
     "output_type": "stream",
     "text": [
      "computer picked: scissors.\n",
      "you lost :(\n",
      "2 computer\n"
     ]
    },
    {
     "name": "stdin",
     "output_type": "stream",
     "text": [
      "type rock/paper/scissors or q to quit:  q\n"
     ]
    },
    {
     "name": "stdout",
     "output_type": "stream",
     "text": [
      "you won 1 times. computer won 2 times.\n",
      "goodbye!\n"
     ]
    }
   ],
   "source": [
    "import random\n",
    "user_wins = 0\n",
    "computer_wins = 0\n",
    "options = [\"rock\", \"paper\", \"scissors\"]\n",
    "options[0]\n",
    "\n",
    "while True:\n",
    "    user_input = input(\"type rock/paper/scissors or q to quit: \").lower()\n",
    "    if user_input == \"q\":\n",
    "        break\n",
    "    if user_input not in options:\n",
    "        print(\"not a valid option, try again\")\n",
    "        continue\n",
    "    random_number = random.randint(0,2)\n",
    "    # 0=rock 1=paper 2=scissors\n",
    "    computer_pick = options[random_number]\n",
    "    print(\"computer picked:\",computer_pick+\".\")\n",
    "\n",
    "    if user_input == \"rock\" and computer_pick == \"scissors\":\n",
    "        print(\"you won!\")\n",
    "        user_wins += 1\n",
    "        print(user_wins,\"you\")\n",
    "        \n",
    "    elif user_input == \"scissors\" and computer_pick == \"paper\":\n",
    "        print(\"you won!\")\n",
    "        user_wins += 1\n",
    "        print(user_wins,\"you\")\n",
    "    \n",
    "    elif user_input == \"paper\" and computer_pick == \"rock\":\n",
    "        print(\"you won!\")\n",
    "        user_wins += 1\n",
    "        print(user_wins,\"you\")\n",
    "\n",
    "    else:\n",
    "        print(\"you lost :(\")\n",
    "        computer_wins += 1\n",
    "        print(computer_wins,\"computer\")\n",
    "\n",
    "print(\"you won\",user_wins,\"times. computer won\", computer_wins, \"times.\")\n",
    "\n",
    "print(\"goodbye!\")"
   ]
  },
  {
   "cell_type": "code",
   "execution_count": null,
   "id": "6f9d9311-4433-4d34-b7c2-65ab70cf3108",
   "metadata": {},
   "outputs": [],
   "source": []
  }
 ],
 "metadata": {
  "kernelspec": {
   "display_name": "Python 3 (ipykernel)",
   "language": "python",
   "name": "python3"
  },
  "language_info": {
   "codemirror_mode": {
    "name": "ipython",
    "version": 3
   },
   "file_extension": ".py",
   "mimetype": "text/x-python",
   "name": "python",
   "nbconvert_exporter": "python",
   "pygments_lexer": "ipython3",
   "version": "3.11.7"
  }
 },
 "nbformat": 4,
 "nbformat_minor": 5
}
